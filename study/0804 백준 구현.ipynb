{
 "cells": [
  {
   "cell_type": "markdown",
   "id": "4ec6a03b",
   "metadata": {},
   "source": [
    "### 10757\n",
    "\n",
    "두 정수 A와 B를 입력받은 다음, A+B를 출력하는 프로그램을 작성하시오."
   ]
  },
  {
   "cell_type": "code",
   "execution_count": 1,
   "id": "a4c4fe69",
   "metadata": {
    "scrolled": true
   },
   "outputs": [
    {
     "name": "stdout",
     "output_type": "stream",
     "text": [
      "9223372036854775807 9223372036854775808\n",
      "18446744073709551615\n"
     ]
    }
   ],
   "source": [
    "a, b = map(int,input().split())\n",
    "\n",
    "print(a+b)"
   ]
  },
  {
   "cell_type": "markdown",
   "id": "0b23b3a7",
   "metadata": {},
   "source": [
    "### 2475\n",
    "\n",
    "제조하는 컴퓨터마다 6자리의 고유번호를 매긴다.\n",
    "\n",
    "고유번호의 처음 5자리에는 00000부터 99999까지의 수 중 하나가 주어지며 6번째 자리에는 검증수가 들어간다.\n",
    "\n",
    "검증수는 고유번호의 처음 5자리에 들어가는 5개의 숫자를 각각 제곱한 수의 합을 10으로 나눈 나머지이다.\n",
    "\n",
    "고유번호의 처음 5자리의 숫자들이 04256이면, 각 숫자를 제곱한 수들의 합 0+16+4+25+36 = 81 을 10으로 나눈 나머지인 1이 검증수이다.\n",
    "\n",
    "입력 : 첫째 줄에 고유번호의 처음 5자리의 숫자들이 빈칸을 사이에 두고 하나씩 주어진다.\n",
    "\n",
    "출력 : 첫째 줄에 검증수를 출력한다."
   ]
  },
  {
   "cell_type": "code",
   "execution_count": 4,
   "id": "d46c02c4",
   "metadata": {},
   "outputs": [
    {
     "name": "stdout",
     "output_type": "stream",
     "text": [
      "0 4 2 5 6\n",
      "1\n"
     ]
    }
   ],
   "source": [
    "a, b, c, d, e = map(int, input().split())\n",
    "\n",
    "f = (a**2 + b**2 + c**2 + d**2 + e**2) % 10\n",
    "\n",
    "print(f)"
   ]
  },
  {
   "cell_type": "code",
   "execution_count": 5,
   "id": "6838395f",
   "metadata": {},
   "outputs": [
    {
     "name": "stdout",
     "output_type": "stream",
     "text": [
      "0 4 2 5 6\n",
      "1\n"
     ]
    }
   ],
   "source": [
    "result = 0\n",
    "\n",
    "for n in list(map(int, input().split())):\n",
    "    result += n**2\n",
    "    \n",
    "print(result%10)"
   ]
  },
  {
   "cell_type": "markdown",
   "id": "02936026",
   "metadata": {},
   "source": [
    "### 2442\n",
    "\n",
    "첫째 줄에는 별 1개, 둘째 줄에는 별 3개, ..., N번째 줄에는 별 2×N-1개를 찍는 문제\n",
    "\n",
    "별은 가운데를 기준으로 대칭이어야 한다."
   ]
  },
  {
   "cell_type": "code",
   "execution_count": 8,
   "id": "91107b14",
   "metadata": {
    "scrolled": true
   },
   "outputs": [
    {
     "name": "stdout",
     "output_type": "stream",
     "text": [
      "5\n",
      "    *\n",
      "   ***\n",
      "  *****\n",
      " *******\n",
      "*********\n"
     ]
    }
   ],
   "source": [
    "star = int(input())\n",
    "\n",
    "for i in range(1, star+1):\n",
    "    print(\" \"*(star-i) + \"*\" * (2*i-1))"
   ]
  }
 ],
 "metadata": {
  "kernelspec": {
   "display_name": "Python 3 (ipykernel)",
   "language": "python",
   "name": "python3"
  },
  "language_info": {
   "codemirror_mode": {
    "name": "ipython",
    "version": 3
   },
   "file_extension": ".py",
   "mimetype": "text/x-python",
   "name": "python",
   "nbconvert_exporter": "python",
   "pygments_lexer": "ipython3",
   "version": "3.9.7"
  }
 },
 "nbformat": 4,
 "nbformat_minor": 5
}
