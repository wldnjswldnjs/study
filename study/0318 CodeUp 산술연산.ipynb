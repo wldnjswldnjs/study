{
 "cells": [
  {
   "cell_type": "code",
   "execution_count": 4,
   "id": "4aecb1f9",
   "metadata": {},
   "outputs": [
    {
     "name": "stdout",
     "output_type": "stream",
     "text": [
      "-3\n",
      "3\n"
     ]
    }
   ],
   "source": [
    "# 6032\n",
    "# 입력된 정수의 부호를 바꿔 출력해보자.\n",
    "\n",
    "\n",
    "# 예시 \n",
    "# ... \n",
    "# print(-n) \n",
    "\n",
    "a = int(input())\n",
    "print(-a)"
   ]
  },
  {
   "cell_type": "code",
   "execution_count": 4,
   "id": "86029a1d",
   "metadata": {},
   "outputs": [
    {
     "name": "stdout",
     "output_type": "stream",
     "text": [
      "A\n",
      "B\n"
     ]
    }
   ],
   "source": [
    "# 6033\n",
    "# 문자 1개를 입력받아 그 다음 문자를 출력해보자.\n",
    "# 영문자 'A'의 다음 문자는 'B'이고, 숫자 '0'의 다음 문자는 '1'이다.\n",
    "\n",
    "# 예시\n",
    "# ...\n",
    "# print(chr(n+1))\n",
    "\n",
    "# 힌트\n",
    "# 아스키문자표에서 'A'는 10진수 65로 저장되고 'B'는 10진수 66으로 저장된다.\n",
    "# 따라서, 문자도 값으로 덧셈을 할 수 있다. 어떤 문자의 값에 1을 더하면 그 다음 문자의 값이 된다.\n",
    "\n",
    "# ord() 문자열을 아스키코드로 반환\n",
    "# chr() 아스키코드를 문자열로 변환\n",
    "\n",
    "a = ord(input())\n",
    "print(chr(a+1))"
   ]
  },
  {
   "cell_type": "code",
   "execution_count": 8,
   "id": "6ca5ccd4",
   "metadata": {},
   "outputs": [
    {
     "name": "stdout",
     "output_type": "stream",
     "text": [
      "3 2\n",
      "1\n"
     ]
    }
   ],
   "source": [
    "# 6034\n",
    "# 정수 2개(a, b)를 입력받아 a에서 b를 뺀 차를 출력하는 프로그램을 작성해보자.\n",
    "\n",
    "# 예시\n",
    "# ...\n",
    "# c = int(a) - int(b)\n",
    "# print(c)\n",
    "\n",
    "a,b = input().split()\n",
    "print(int(a) - int(b))"
   ]
  },
  {
   "cell_type": "code",
   "execution_count": 9,
   "id": "65bb6c80",
   "metadata": {},
   "outputs": [
    {
     "name": "stdout",
     "output_type": "stream",
     "text": [
      "3 4\n",
      "12.0\n"
     ]
    }
   ],
   "source": [
    "# 6035\n",
    "# 실수 2개(f1, f2)를 입력받아 곱을 출력하는 프로그램을 작성해보자.\n",
    "\n",
    "# 예시\n",
    "# ...\n",
    "# m = float(f1) * float(f2)\n",
    "# print(m)\n",
    "\n",
    "a, b = input().split()\n",
    "print(float(a) * float(b)) "
   ]
  },
  {
   "cell_type": "code",
   "execution_count": 13,
   "id": "aa9b26d1",
   "metadata": {},
   "outputs": [
    {
     "name": "stdout",
     "output_type": "stream",
     "text": [
      "안녕 2\n",
      "안녕안녕\n"
     ]
    }
   ],
   "source": [
    "# 6036\n",
    "# 단어와 반복 횟수를 입력받아 여러 번 출력해보자.\n",
    "\n",
    "# 예시\n",
    "# w, n = input().split()\n",
    "# print(w*int(n))\n",
    "\n",
    "# 참고\n",
    "# 문자열 * 정수 또는 정수 * 문자열은 그 문자열을 여러 번 반복한 문자열을 만들어 준다.\n",
    "\n",
    "# 입력 : love 3\n",
    "# 출력 : lovelovelove\n",
    "    \n",
    "w, n = input().split()\n",
    "print(w*int(n))"
   ]
  },
  {
   "cell_type": "code",
   "execution_count": 18,
   "id": "88884eef",
   "metadata": {},
   "outputs": [
    {
     "name": "stdout",
     "output_type": "stream",
     "text": [
      "3\n",
      "i love you\n",
      "i love youi love youi love you\n"
     ]
    }
   ],
   "source": [
    "# 6037\n",
    "# 반복 횟수와 문장을 입력받아 여러 번 출력해보자.\n",
    "\n",
    "# 예시\n",
    "# n = input()\n",
    "# s = input()\n",
    "# print(int(n)*s)\n",
    "\n",
    "# 참고\n",
    "# 문자열 * 정수 또는 정수 * 문자열은 그 문자열을 여러 번 반복한 문자열을 만들어 준다.\n",
    "\n",
    "n = input()\n",
    "s = input()\n",
    "print(int(n)*s)"
   ]
  },
  {
   "cell_type": "code",
   "execution_count": 14,
   "id": "62473490",
   "metadata": {},
   "outputs": [
    {
     "name": "stdout",
     "output_type": "stream",
     "text": [
      "3 2\n",
      "9\n"
     ]
    }
   ],
   "source": [
    "# 6038\n",
    "# 정수 2개(a, b)를 입력받아\n",
    "# a를 b번 곱한 거듭제곱을 출력하는 프로그램을 작성해보자.\n",
    "\n",
    "# 예시\n",
    "# ...\n",
    "# c = int(a)**int(b) \n",
    "# print(c)\n",
    "\n",
    "# 참고\n",
    "# python 언어에서는 거듭제곱을 계산하는 연산자(**)를 제공\n",
    "# 일반적으로 수학 식에서 거듭제곱을 표현하는 사용하는 서컴플렉스/케릿 기호(^)는 프로그래밍언어에서 다른 의미로 쓰인다.\n",
    "\n",
    "a, b = input().split()\n",
    "print(int(a)**int(b))"
   ]
  },
  {
   "cell_type": "code",
   "execution_count": 19,
   "id": "bccd546f",
   "metadata": {},
   "outputs": [
    {
     "name": "stdout",
     "output_type": "stream",
     "text": [
      "3.5 2.3\n",
      "17.838424804458295\n"
     ]
    }
   ],
   "source": [
    "# 6039\n",
    "# 실수 2개(f1, f2)를 입력받아\n",
    "# f1을 f2번 거듭제곱한 값을 출력하는 프로그램을 작성해보자.\n",
    "\n",
    "# 참고\n",
    "# python 언어에서는 거듭제곱을 계산하는 연산자(**)를 제공\n",
    "# 일반적으로 수학 식에서 거듭제곱을 표현하는 사용하는 서컴플렉스/케릿 기호(^)는 프로그래밍언어에서 다른 의미로 쓰인다.\n",
    "\n",
    "a, b = input().split()\n",
    "print(float(a)**float(b))"
   ]
  },
  {
   "cell_type": "code",
   "execution_count": 20,
   "id": "e0c057a4",
   "metadata": {},
   "outputs": [
    {
     "name": "stdout",
     "output_type": "stream",
     "text": [
      "6 4\n",
      "1\n"
     ]
    }
   ],
   "source": [
    "# 6040\n",
    "# 정수 2개(a, b) 를 입력받아 a를 b로 나눈 몫을 출력해보자.\n",
    "\n",
    "# 예시\n",
    "# ...\n",
    "# print(a//b)\n",
    "\n",
    "# 참고\n",
    "# python언어에서는 나눈 몫을 계산하는 연산자(//, floor division)를 제공한다.\n",
    "# a//b 와 같이 작성하면, a를 b로 나눈 몫(quotient)을 계산해준다.\n",
    "\n",
    "a, b = input().split()\n",
    "print(int(a)//int(b))"
   ]
  },
  {
   "cell_type": "code",
   "execution_count": 21,
   "id": "45be0f00",
   "metadata": {},
   "outputs": [
    {
     "name": "stdout",
     "output_type": "stream",
     "text": [
      "6 3\n",
      "0\n"
     ]
    }
   ],
   "source": [
    "# 6041\n",
    "# 정수 2개(a, b) 를 입력받아 a를 b로 나눈 나머지를 출력해보자.\n",
    "\n",
    "# 예시\n",
    "# ...\n",
    "# print(a%b)\n",
    "\n",
    "# 참고\n",
    "# python 언어에서는 나눈 나머지를 계산하는 연산자(%, remainder)를 제공한다.\n",
    "\n",
    "a, b = input().split()\n",
    "print(int(a)%int(b))"
   ]
  },
  {
   "cell_type": "code",
   "execution_count": 23,
   "id": "5fe4d673",
   "metadata": {},
   "outputs": [
    {
     "name": "stdout",
     "output_type": "stream",
     "text": [
      "2.135648\n",
      "2.14\n"
     ]
    }
   ],
   "source": [
    "# 6042\n",
    "# 실수 1개를 입력받아\n",
    "# 소숫점 이하 두 번째 자리까지의 정확도로 반올림한 값을 출력해보자.\n",
    "\n",
    "\n",
    "# 예시\n",
    "\n",
    "# a=float(input())\n",
    "# print( format(a, \".2f\"))\n",
    "\n",
    "# format() :문자열 중간 중간에 특정 변수의 값을 넣어주기 위해서 사용\n",
    "\n",
    "# 입력 : 3.141592\n",
    "# 출력 : 3.14\n",
    "\n",
    "a=float(input())\n",
    "print( format(a, \".2f\"))"
   ]
  },
  {
   "cell_type": "code",
   "execution_count": 27,
   "id": "f8ca47fb",
   "metadata": {},
   "outputs": [
    {
     "name": "stdout",
     "output_type": "stream",
     "text": [
      "6.2 3.5\n",
      "1.771\n"
     ]
    }
   ],
   "source": [
    "# 6043\n",
    "# 실수 2개(f1, f2)를 입력받아\n",
    "# f1 을 f2 로 나눈 값을 출력해보자. 이 때 소숫점 넷째자리에서 반올림하여 무조건 소숫점 셋째 자리까지 출력한다.\n",
    "\n",
    "\n",
    "# 참고\n",
    "# python 언어에는 나눗셈(division)을 계산하는 연산자(/)가 있다.\n",
    "\n",
    "# 컴퓨터 프로그래밍에서 실수 변환이나 실수를 사용하는 계산은 \n",
    "# 정확하게 변환되거나 계산되는 것이 아니라, 거의 모두 근사값으로 계산되는 것이라고 할 수 있다.\n",
    "\n",
    "a, b = input().split()\n",
    "print(format(float(a) / float(b), \".3f\"))"
   ]
  },
  {
   "cell_type": "code",
   "execution_count": 2,
   "id": "a2bdb929",
   "metadata": {},
   "outputs": [
    {
     "name": "stdout",
     "output_type": "stream",
     "text": [
      "10 3\n",
      "13\n",
      "7\n",
      "30\n",
      "3\n",
      "1\n",
      "3.33\n"
     ]
    }
   ],
   "source": [
    "# 6044\n",
    "# 정수 2개(a, b)를 입력받아 합, 차, 곱, 몫, 나머지, 나눈 값을 자동으로 계산해보자.\n",
    "# 단 0 <= a, b <= 2147483647, b는 0이 아니다.\n",
    "\n",
    "# 첫 번째 줄에 합\n",
    "# 두 번째 줄에 차,\n",
    "# 세 번째 줄에 곱,\n",
    "# 네 번째 줄에 몫,\n",
    "# 다섯 번째 줄에 나머지,\n",
    "# 여섯 번째 줄에 나눈 값을 순서대로 출력한다.\n",
    "# (실수, 소수점 이하 둘째 자리까지의 정확도로 출력)\n",
    "\n",
    "a, b = input().split()\n",
    "print(int(a) + int(b))\n",
    "print(int(a) - int(b))\n",
    "print(int(a) * int(b))\n",
    "print(int(a) // int(b))\n",
    "print(int(a) % int(b))\n",
    "print(format(int(a) / int(b), \".2f\"))"
   ]
  },
  {
   "cell_type": "code",
   "execution_count": 7,
   "id": "6e914c31",
   "metadata": {},
   "outputs": [
    {
     "name": "stdout",
     "output_type": "stream",
     "text": [
      "3 5 7\n",
      "15 5.00\n"
     ]
    }
   ],
   "source": [
    "# 6045\n",
    "# 정수 3개를 입력받아 합과 평균을 출력해보자.\n",
    "\n",
    "# 참고\n",
    "# 공백으로 구분된 한 줄로 값들을 입력받기 위해서는\n",
    "# a, b, c = input().split()\n",
    "# 과 같은 방법이 가능하고,\n",
    "\n",
    "# 공백으로 구분해 두 값을 출력하기 위해서는\n",
    "# print(d, e)\n",
    "# 와 같은 방법이 가능하다.\n",
    "\n",
    "# 잘라낸 값들은 그 값의 특성(정수, 실수, 문자, 문자열 ...)에 따라 명확하게 변환시킨 후 사용하는 것이 좋다.\n",
    "\n",
    "\n",
    "a, b, c = input().split()\n",
    "n = int(a) + int(b) + int(c)\n",
    "s = n / 3\n",
    "print(n, format(s, \".2f\"))\n"
   ]
  },
  {
   "cell_type": "markdown",
   "id": "0cf14bd4",
   "metadata": {},
   "source": [
    "python 프로그래밍을 처음 배울 때 좋은 습관(단계)\n",
    "1. 입력된 문자열을 정확하게 잘라낸다.(공백, 줄바꿈, 구분문자 등에 따라 정확하게 잘라낸다.)\n",
    "2. 잘라낸 데이터들을 데이터형에 맞게 변환해 변수에 저장한다. (정수, 실수, 문자, 문자열 등에 따라 정확하게 변환한다.)\n",
    "3. 값을 저장했다가 다시 사용하기 위해, 변수를 이용해 값을 저장하고, 변수를 이용해 계산을 한다.\n",
    "4. 원하는 결과 값을 필요한 형태로 만들어 출력한다.(공백, 줄바꿈, 구분자, 등에 따라 원하는 형태로 만들어 출력한다.)"
   ]
  }
 ],
 "metadata": {
  "kernelspec": {
   "display_name": "Python [conda env:study] *",
   "language": "python",
   "name": "conda-env-study-py"
  },
  "language_info": {
   "codemirror_mode": {
    "name": "ipython",
    "version": 3
   },
   "file_extension": ".py",
   "mimetype": "text/x-python",
   "name": "python",
   "nbconvert_exporter": "python",
   "pygments_lexer": "ipython3",
   "version": "3.8.12"
  }
 },
 "nbformat": 4,
 "nbformat_minor": 5
}
