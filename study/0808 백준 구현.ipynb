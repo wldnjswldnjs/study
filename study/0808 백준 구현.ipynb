{
 "cells": [
  {
   "cell_type": "markdown",
   "id": "ca296587",
   "metadata": {},
   "source": [
    "### 2747\n",
    "피보나치 수는 0과 1로 시작한다.\n",
    "\n",
    "0번째 피보나치 수는 0이고, 1번째 피보나치 수는 1이다.\n",
    "\n",
    "그 다음 2번째 부터는 바로 앞 두 피보나치 수의 합이 된다."
   ]
  },
  {
   "cell_type": "code",
   "execution_count": 1,
   "id": "3f791ee6",
   "metadata": {},
   "outputs": [
    {
     "name": "stdout",
     "output_type": "stream",
     "text": [
      "10\n",
      "55\n"
     ]
    }
   ],
   "source": [
    "a = 0\n",
    "b = 1\n",
    "n = int(input())\n",
    "\n",
    "for i in range(n):\n",
    "    a, b = b, a + b\n",
    "    \n",
    "print(a)"
   ]
  },
  {
   "cell_type": "markdown",
   "id": "48a49988",
   "metadata": {},
   "source": [
    "### 11050\n",
    "자연수 \\(N\\)과 정수 \\(K\\)가 주어졌을 때 이항 계수를 구하는 프로그램을 작성하시오."
   ]
  },
  {
   "cell_type": "code",
   "execution_count": 1,
   "id": "29afb711",
   "metadata": {},
   "outputs": [
    {
     "name": "stdout",
     "output_type": "stream",
     "text": [
      "5 2\n",
      "10\n"
     ]
    }
   ],
   "source": [
    "from math import factorial\n",
    "\n",
    "n, k = map(int, input().split())\n",
    "\n",
    "b = factorial(n) // (factorial(k) * factorial(n - k))\n",
    "\n",
    "print(b)"
   ]
  }
 ],
 "metadata": {
  "kernelspec": {
   "display_name": "Python 3 (ipykernel)",
   "language": "python",
   "name": "python3"
  },
  "language_info": {
   "codemirror_mode": {
    "name": "ipython",
    "version": 3
   },
   "file_extension": ".py",
   "mimetype": "text/x-python",
   "name": "python",
   "nbconvert_exporter": "python",
   "pygments_lexer": "ipython3",
   "version": "3.9.7"
  }
 },
 "nbformat": 4,
 "nbformat_minor": 5
}
