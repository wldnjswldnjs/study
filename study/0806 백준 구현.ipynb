{
 "cells": [
  {
   "cell_type": "markdown",
   "id": "d7ab8758",
   "metadata": {},
   "source": [
    "### 2446\n",
    "예제를 보고 규칙을 유추한 뒤에 별을 찍어 보세요.\n",
    "\n",
    "첫째 줄부터 2×N-1번째 줄까지 차례대로 별을 출력한다.\n",
    "\n",
    "입력 : 5\n",
    "\n",
    "출력 :\n",
    "```\n",
    "*********\n",
    " *******\n",
    "  *****\n",
    "   ***\n",
    "    *\n",
    "   ***\n",
    "  *****\n",
    " *******\n",
    "*********\n",
    "```"
   ]
  },
  {
   "cell_type": "code",
   "execution_count": 13,
   "id": "18841ce6",
   "metadata": {},
   "outputs": [
    {
     "name": "stdout",
     "output_type": "stream",
     "text": [
      "5\n",
      "*********\n",
      " *******\n",
      "  *****\n",
      "   ***\n",
      "    *\n",
      "   ***\n",
      "  *****\n",
      " *******\n",
      "*********\n"
     ]
    }
   ],
   "source": [
    "line = int(input())\n",
    "\n",
    "for i in range(line, 0, -1):\n",
    "    print(' ' * (line-i) + '*' * (i*2-1))\n",
    "    \n",
    "for i in range(2, line+1):\n",
    "    print(' ' * (line-i) + '*' * (i*2-1))"
   ]
  },
  {
   "cell_type": "markdown",
   "id": "daba62b4",
   "metadata": {},
   "source": [
    "### 3009\n",
    "\n",
    "세 점이 주어졌을 때, 축에 평행한 직사각형을 만들기 위해서 필요한 네 번째 점을 찾는 프로그램을 작성하시오.\n",
    "\n",
    "세 점의 좌표가 한 줄에 하나씩 주어진다.\n",
    "\n",
    "직사각형의 네 번째 점의 좌표를 출력한다."
   ]
  },
  {
   "cell_type": "code",
   "execution_count": 18,
   "id": "791f9413",
   "metadata": {},
   "outputs": [
    {
     "name": "stdout",
     "output_type": "stream",
     "text": [
      "5 5\n",
      "5 7\n",
      "7 5\n",
      "7 7\n"
     ]
    }
   ],
   "source": [
    "x_coor = []\n",
    "y_coor = []\n",
    "\n",
    "for i in range(3):\n",
    "    a, b = map(int, input().split())\n",
    "    x_coor.append(a)\n",
    "    y_coor.append(b)\n",
    "    \n",
    "for j in range(3):\n",
    "    if x_coor.count(x_coor[j]) == 1:\n",
    "        x_4 = x_coor[j]\n",
    "    if y_coor.count(y_coor[j]) == 1:\n",
    "        y_4 = y_coor[j]\n",
    "        \n",
    "print(x_4, y_4)\n",
    "        "
   ]
  }
 ],
 "metadata": {
  "kernelspec": {
   "display_name": "Python 3 (ipykernel)",
   "language": "python",
   "name": "python3"
  },
  "language_info": {
   "codemirror_mode": {
    "name": "ipython",
    "version": 3
   },
   "file_extension": ".py",
   "mimetype": "text/x-python",
   "name": "python",
   "nbconvert_exporter": "python",
   "pygments_lexer": "ipython3",
   "version": "3.9.7"
  }
 },
 "nbformat": 4,
 "nbformat_minor": 5
}
