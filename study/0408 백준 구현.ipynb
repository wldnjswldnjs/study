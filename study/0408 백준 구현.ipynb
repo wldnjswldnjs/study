{
 "cells": [
  {
   "cell_type": "code",
   "execution_count": 1,
   "id": "7b0a3034",
   "metadata": {},
   "outputs": [
    {
     "name": "stdout",
     "output_type": "stream",
     "text": [
      "734 893\n",
      "437\n"
     ]
    }
   ],
   "source": [
    "# 2908\n",
    "# 상수는 수를 다른 사람과 다르게 거꾸로 읽는다. 예를 들어, 734와 893을 칠판에 적었다면, 상수는 이 수를 437과 398로 읽는다. 따라서, 상수는 두 수중 큰 수인 437을 큰 수라고 말할 것이다.\n",
    "# 두 수가 주어졌을 때, 상수의 대답을 출력하는 프로그램을 작성하시오.\n",
    "\n",
    "# 첫째 줄에 상근이가 칠판에 적은 두 수 A와 B가 주어진다. 두 수는 같지 않은 세 자리 수이며, 0이 포함되어 있지 않다.\n",
    "\n",
    "# [::-1] : 역순\n",
    "\n",
    "a, b = input().split()\n",
    "a = int(a[::-1])\n",
    "b = int(b[::-1])\n",
    "\n",
    "if a > b:\n",
    "    print(a)\n",
    "else:\n",
    "    print(b)"
   ]
  },
  {
   "cell_type": "code",
   "execution_count": 4,
   "id": "8b7d6225",
   "metadata": {},
   "outputs": [
    {
     "name": "stdout",
     "output_type": "stream",
     "text": [
      "5\n",
      "5\n",
      "2\n",
      "3\n",
      "4\n",
      "1\n",
      "1\n",
      "2\n",
      "3\n",
      "4\n",
      "5\n"
     ]
    }
   ],
   "source": [
    "# 2750\n",
    "# N개의 수가 주어졌을 때, 이를 오름차순으로 정렬하는 프로그램을 작성하시오.\n",
    "\n",
    "# 첫째 줄에 수의 개수 N(1 ≤ N ≤ 1,000)이 주어진다. 둘째 줄부터 N개의 줄에는 수 주어진다. 이 수는 절댓값이 1,000보다 작거나 같은 정수이다. 수는 중복되지 않는다.\n",
    "\n",
    "# 첫째 줄부터 N개의 줄에 오름차순으로 정렬한 결과를 한 줄에 하나씩 출력한다.\n",
    "\n",
    "a = int(input())\n",
    "num = []\n",
    "\n",
    "for i in range(a):\n",
    "    num.append(int(input()))\n",
    "    \n",
    "for j in range(len(num)):\n",
    "    for k in range(len(num)):\n",
    "        if num[j] < num[k]:\n",
    "            num[j], num[k] = num[k], num[j]\n",
    "            \n",
    "for n in num:\n",
    "    print(n)"
   ]
  },
  {
   "cell_type": "code",
   "execution_count": null,
   "id": "8b497dea",
   "metadata": {},
   "outputs": [],
   "source": []
  }
 ],
 "metadata": {
  "kernelspec": {
   "display_name": "Python [conda env:.conda-study] *",
   "language": "python",
   "name": "conda-env-.conda-study-py"
  },
  "language_info": {
   "codemirror_mode": {
    "name": "ipython",
    "version": 3
   },
   "file_extension": ".py",
   "mimetype": "text/x-python",
   "name": "python",
   "nbconvert_exporter": "python",
   "pygments_lexer": "ipython3",
   "version": "3.8.13"
  }
 },
 "nbformat": 4,
 "nbformat_minor": 5
}
