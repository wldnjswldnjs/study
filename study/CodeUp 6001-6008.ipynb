{
 "cells": [
  {
   "cell_type": "code",
   "execution_count": 1,
   "id": "523f3c03",
   "metadata": {
    "scrolled": false
   },
   "outputs": [
    {
     "name": "stdout",
     "output_type": "stream",
     "text": [
      "Hello\n"
     ]
    }
   ],
   "source": [
    "# 1.  python 언어에서 가장 기본적인 명령이 출력문이다.\n",
    "#     print( )를 이용해 다음 단어를 출력하시오.\n",
    "    \n",
    "#     Hello\n",
    "    \n",
    "print('Hello')"
   ]
  },
  {
   "cell_type": "code",
   "execution_count": 2,
   "id": "8e67d30e",
   "metadata": {},
   "outputs": [
    {
     "name": "stdout",
     "output_type": "stream",
     "text": [
      "Hello World\n"
     ]
    }
   ],
   "source": [
    "# 2.  이번에는 공백( )을 포함한 문장을 출력한다.\n",
    "#     다음 문장을 출력해보자.\n",
    "\n",
    "#     Hello World  (대소문자에 주의한다.)\n",
    "\n",
    "print('Hello World')"
   ]
  },
  {
   "cell_type": "code",
   "execution_count": 3,
   "id": "252cd291",
   "metadata": {},
   "outputs": [
    {
     "name": "stdout",
     "output_type": "stream",
     "text": [
      "Hello\n",
      "World\n"
     ]
    }
   ],
   "source": [
    "# 3.  이번에는 줄을 바꿔 출력하는 출력문을 연습해보자.\n",
    "#     다음과 같이 줄을 바꿔 출력해야 한다.\n",
    "\n",
    "#     Hello\n",
    "#     World\n",
    "#     (두 줄에 걸쳐 줄을 바꿔 출력)\n",
    "\n",
    "print('Hello')\n",
    "print('World')"
   ]
  },
  {
   "cell_type": "code",
   "execution_count": 5,
   "id": "1281e9f3",
   "metadata": {},
   "outputs": [
    {
     "name": "stdout",
     "output_type": "stream",
     "text": [
      "'Hello'\n"
     ]
    }
   ],
   "source": [
    "# 4.  이번에는 작은 따옴표(')(single quotation mark)가 들어있는\n",
    "#     출력문 연습을 해보자.\n",
    "\n",
    "#     다음 문장을 출력하시오.\n",
    "\n",
    "#     'Hello'\n",
    "\n",
    "print(\"'Hello'\")"
   ]
  },
  {
   "cell_type": "code",
   "execution_count": 6,
   "id": "ab9fe46a",
   "metadata": {},
   "outputs": [
    {
     "name": "stdout",
     "output_type": "stream",
     "text": [
      "\"Hello World\"\n"
     ]
    }
   ],
   "source": [
    "# 5.  이번에는 큰따옴표(\")(double quotation mark)가 포함된 출력문을 연습해보자.\n",
    "\n",
    "#     다음 문장을 출력하시오.\n",
    "\n",
    "#     \"Hello World\"\n",
    "\n",
    "print('\"Hello World\"')"
   ]
  },
  {
   "cell_type": "code",
   "execution_count": 3,
   "id": "898da5d9",
   "metadata": {},
   "outputs": [
    {
     "name": "stdout",
     "output_type": "stream",
     "text": [
      "\"!@#$%^&*()'\n"
     ]
    }
   ],
   "source": [
    "# 6.  이번에는 특수문자 출력에 도전하자!!\n",
    "\n",
    "#     다음 문장을 출력하시오.\n",
    "\n",
    "#     \"!@#$%^&*()'\n",
    "\n",
    "print('\\\"!@#$%^&*()\\'')"
   ]
  },
  {
   "cell_type": "code",
   "execution_count": 4,
   "id": "bac6f39c",
   "metadata": {},
   "outputs": [
    {
     "name": "stdout",
     "output_type": "stream",
     "text": [
      "\"C:\\Download\\'hello'.py\"\n"
     ]
    }
   ],
   "source": [
    "# 7.  윈도우 운영체제의 파일 경로를 출력하는 연습을 해보자.\n",
    " \n",
    "#     파일 경로에는 특수문자들이 포함된다.\n",
    "\n",
    "#     다음 경로를 출력하시오.\n",
    "\n",
    "#     \"C:\\Download\\'hello'.py\"\n",
    "#     (단, 따옴표도 함께 출력한다.)\n",
    "\n",
    "print('\\\"C:\\Download\\\\\\'hello\\'.py\\\"')"
   ]
  },
  {
   "cell_type": "code",
   "execution_count": 5,
   "id": "7d4e360b",
   "metadata": {},
   "outputs": [
    {
     "name": "stdout",
     "output_type": "stream",
     "text": [
      "print(\"Hello\\nWorld\")\n"
     ]
    }
   ],
   "source": [
    "# 8.  출력문 연습의 마지막 문제이다.\n",
    "#     (생각과 시도를 많이 해야하는 문제들은 한 두 문제씩 넘겼다가 나중에 풀어보면 된다.)\n",
    "\n",
    "#     이번에는 다음과 같은 python프로그램의 소스코드를 출력해보자.\n",
    "\n",
    "#     print(\"Hello\\nWorld\")\n",
    "\n",
    "#     위 코드를 정확히 그대로 출력하시오.(공백문자 주의)\n",
    "\n",
    "print('print(\\\"Hello\\\\nWorld\\\")')"
   ]
  }
 ],
 "metadata": {
  "kernelspec": {
   "display_name": "Python [conda env:study] *",
   "language": "python",
   "name": "conda-env-study-py"
  },
  "language_info": {
   "codemirror_mode": {
    "name": "ipython",
    "version": 3
   },
   "file_extension": ".py",
   "mimetype": "text/x-python",
   "name": "python",
   "nbconvert_exporter": "python",
   "pygments_lexer": "ipython3",
   "version": "3.8.12"
  }
 },
 "nbformat": 4,
 "nbformat_minor": 5
}
