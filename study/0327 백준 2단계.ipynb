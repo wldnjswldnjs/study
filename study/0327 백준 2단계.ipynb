{
 "cells": [
  {
   "cell_type": "code",
   "execution_count": 6,
   "id": "d08c5e92",
   "metadata": {},
   "outputs": [
    {
     "name": "stdout",
     "output_type": "stream",
     "text": [
      "10 2\n",
      ">\n"
     ]
    }
   ],
   "source": [
    "# 1\n",
    "# 두 정수 A와 B가 주어졌을 때, A와 B를 비교하는 프로그램을 작성하시오.\n",
    "\n",
    "# 첫째 줄에 A와 B가 주어진다. A와 B는 공백 한 칸으로 구분되어져 있다.\n",
    "\n",
    "# 첫째 줄에 다음 세 가지 중 하나를 출력한다.\n",
    "\n",
    "# A가 B보다 큰 경우에는 '>'를 출력한다.\n",
    "# A가 B보다 작은 경우에는 '<'를 출력한다.\n",
    "# A와 B가 같은 경우에는 '=='를 출력한다.\n",
    "\n",
    "A, B = input().split()\n",
    "A = int(A)\n",
    "B = int(B)\n",
    "if A > B :\n",
    "    print('>')\n",
    "elif A < B :\n",
    "    print('<')\n",
    "else :\n",
    "    print('==')"
   ]
  },
  {
   "cell_type": "code",
   "execution_count": 4,
   "id": "cc32866a",
   "metadata": {},
   "outputs": [
    {
     "name": "stdout",
     "output_type": "stream",
     "text": [
      "59\n",
      "F\n"
     ]
    }
   ],
   "source": [
    "# 2\n",
    "# 시험 점수를 입력받아 90 ~ 100점은 A, 80 ~ 89점은 B, 70 ~ 79점은 C, 60 ~ 69점은 D, 나머지 점수는 F를 출력하는 프로그램을 작성하시오.\n",
    "\n",
    "a = int(input())\n",
    "\n",
    "if 100 >= a >= 90:\n",
    "    print('A')\n",
    "elif 89 >= a >= 80:\n",
    "    print('B')\n",
    "elif 79 >= a >= 70:\n",
    "    print('C')\n",
    "elif 69 >= a >= 60:\n",
    "    print('D')\n",
    "else :\n",
    "    print('F')"
   ]
  },
  {
   "cell_type": "code",
   "execution_count": 1,
   "id": "2cda7d23",
   "metadata": {},
   "outputs": [
    {
     "name": "stdout",
     "output_type": "stream",
     "text": [
      "2000\n",
      "1\n"
     ]
    }
   ],
   "source": [
    "# 3\n",
    "# 연도가 주어졌을 때, 윤년이면 1, 아니면 0을 출력하는 프로그램을 작성하시오.\n",
    "# 윤년은 연도가 4의 배수이면서, 100의 배수가 아닐 때 또는 400의 배수일 때이다.\n",
    "# 예를 들어, 2012년은 4의 배수이면서 100의 배수가 아니라서 윤년이다. 1900년은 100의 배수이고 400의 배수는 아니기 때문에 윤년이 아니다. 하지만, 2000년은 400의 배수이기 때문에 윤년이다.\n",
    "# 첫째 줄에 윤년이면 1, 아니면 0을 출력한다.\n",
    "\n",
    "a = int(input())\n",
    "\n",
    "if a % 4 == 0 and a % 100 != 0 or a % 400 ==0 :\n",
    "    print(1)\n",
    "else :\n",
    "    print(0)"
   ]
  },
  {
   "cell_type": "code",
   "execution_count": 2,
   "id": "6550bbdc",
   "metadata": {},
   "outputs": [
    {
     "name": "stdout",
     "output_type": "stream",
     "text": [
      "12\n",
      "-5\n",
      "4\n"
     ]
    }
   ],
   "source": [
    "# 4\n",
    "# 흔한 수학 문제 중 하나는 주어진 점이 어느 사분면에 속하는지 알아내는 것이다.\n",
    "# 사분면은 아래 그림처럼 1부터 4까지 번호를 갖는다.\n",
    "# \"Quadrant n\"은 \"제n사분면\"이라는 뜻이다.\n",
    "# 예를 들어, 좌표가 (12, 5)인 점 A는 x좌표와 y좌표가 모두 양수이므로 제1사분면에 속한다.\n",
    "# 점 B는 x좌표가 음수이고 y좌표가 양수이므로 제2사분면에 속한다.\n",
    "\n",
    "# 점의 좌표를 입력받아 그 점이 어느 사분면에 속하는지 알아내는 프로그램을 작성하시오.\n",
    "# 단, x좌표와 y좌표는 모두 양수나 음수라고 가정한다.\n",
    "# 첫 줄에는 정수 x가 주어진다. (−1000 ≤ x ≤ 1000; x ≠ 0) 다음 줄에는 정수 y가 주어진다. (−1000 ≤ y ≤ 1000; y ≠ 0)\n",
    "\n",
    "x = int(input())\n",
    "y = int(input())\n",
    "\n",
    "if x > 0 and y > 0 :\n",
    "    print(1)\n",
    "elif x < 0 and y > 0 :\n",
    "    print(2)\n",
    "elif x < 0 and y < 0 :\n",
    "    print(3)\n",
    "elif x > 0 and y < 0 :\n",
    "    print(4)"
   ]
  },
  {
   "cell_type": "code",
   "execution_count": 9,
   "id": "efad73b7",
   "metadata": {},
   "outputs": [
    {
     "name": "stdout",
     "output_type": "stream",
     "text": [
      "0 15\n",
      "23 30\n"
     ]
    }
   ],
   "source": [
    "# 5\n",
    "# 원래 설정되어 있는 알람을 45분 앞서는 시간으로 바꾸는 것이다.\n",
    "# 현재 상근이가 설정한 알람 시각이 주어졌을 때, 창영이의 방법을 사용한다면, 이를 언제로 고쳐야 하는지 구하는 프로그램을 작성하시오.\n",
    "# 첫째 줄에 두 정수 H와 M이 주어진다. (0 ≤ H ≤ 23, 0 ≤ M ≤ 59) 그리고 이것은 현재 상근이가 설정한 놓은 알람 시간 H시 M분을 의미한다.\n",
    "\n",
    "# 입력 시간은 24시간 표현을 사용한다.\n",
    "# 24시간 표현에서 하루의 시작은 0:0(자정)이고, 끝은 23:59(다음날 자정 1분 전)이다.\n",
    "# 시간을 나타낼 때, 불필요한 0은 사용하지 않는다.\n",
    "\n",
    "H, M = input().split()\n",
    "H = int(H)\n",
    "M = int(M)\n",
    "\n",
    "if M > 44 :\n",
    "    print(H, M-45)\n",
    "elif M < 45 and H > 0 :\n",
    "    print(H - 1, M + 15)\n",
    "else :\n",
    "    print(23, M + 15)"
   ]
  },
  {
   "cell_type": "code",
   "execution_count": null,
   "id": "4e6f5ff9",
   "metadata": {},
   "outputs": [],
   "source": []
  },
  {
   "cell_type": "code",
   "execution_count": null,
   "id": "a28f7deb",
   "metadata": {},
   "outputs": [],
   "source": []
  },
  {
   "cell_type": "code",
   "execution_count": null,
   "id": "b54fd1ce",
   "metadata": {},
   "outputs": [],
   "source": []
  }
 ],
 "metadata": {
  "kernelspec": {
   "display_name": "Python [conda env:study] *",
   "language": "python",
   "name": "conda-env-study-py"
  },
  "language_info": {
   "codemirror_mode": {
    "name": "ipython",
    "version": 3
   },
   "file_extension": ".py",
   "mimetype": "text/x-python",
   "name": "python",
   "nbconvert_exporter": "python",
   "pygments_lexer": "ipython3",
   "version": "3.8.12"
  }
 },
 "nbformat": 4,
 "nbformat_minor": 5
}
