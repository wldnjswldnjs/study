{
 "cells": [
  {
   "cell_type": "code",
   "execution_count": 1,
   "id": "66807ab9",
   "metadata": {},
   "outputs": [
    {
     "name": "stdout",
     "output_type": "stream",
     "text": [
      "1 2 4\n",
      "2\n",
      "4\n"
     ]
    }
   ],
   "source": [
    "# 6065\n",
    "# 3개의 정수(a, b, c)가 입력되었을 때, 짝수만 출력해보자.\n",
    "\n",
    "# 예시\n",
    "# a, b, c = input().split()\n",
    "\n",
    "# a = int(a)\n",
    "# b = int(b)\n",
    "# c = int(c)\n",
    "\n",
    "# if a%2==0 :  #논리적으로 한 단위로 처리해야하는 경우 콜론(:)을 찍고, 들여쓰기로 작성 한다.\n",
    "#   print(a)\n",
    "\n",
    "# if b%2==0 :\n",
    "#   print(b) \n",
    "\n",
    "# if c%2==0 :\n",
    "#   print(c) \n",
    "\n",
    "a, b, c = input().split()\n",
    "\n",
    "a = int(a)\n",
    "b = int(b)\n",
    "c = int(c)\n",
    "\n",
    "if a%2==0 : \n",
    "      print(a)\n",
    "\n",
    "if b%2==0 :\n",
    "      print(b) \n",
    "\n",
    "if c%2==0 :\n",
    "      print(c) "
   ]
  },
  {
   "cell_type": "code",
   "execution_count": 2,
   "id": "795d6a0c",
   "metadata": {},
   "outputs": [
    {
     "name": "stdout",
     "output_type": "stream",
     "text": [
      "1 2 8\n",
      "odd\n",
      "even\n",
      "even\n"
     ]
    }
   ],
   "source": [
    "# 6066\n",
    "# 3개의 정수(a, b, c)가 입력되었을 때, 짝(even)/홀(odd)을 출력해보자.\n",
    "\n",
    "# 예시\n",
    "# ...\n",
    "# if a%2==0 :\n",
    "#   print(\"even\")\n",
    "# else :\n",
    "#   print(\"odd\") \n",
    "# ...\n",
    "\n",
    "# 참고 \n",
    "# if 조건식 :  #조건식을 평가해서...\n",
    "#   실행1      #True 인 경우 실행시킬 명령들...\n",
    "#   실행2\n",
    "# else :        \n",
    "#   실행3      #False 인 경우 실행시킬 명령들...\n",
    "#   실행4\n",
    "# 실행5       #조건식과 상관없는 다음 명령\n",
    "\n",
    "a, b, c = input().split()\n",
    "\n",
    "a = int(a)\n",
    "b = int(b)\n",
    "c = int(c)\n",
    "\n",
    "if a%2==0 : \n",
    "    print(\"even\")\n",
    "else :\n",
    "    print(\"odd\")\n",
    "        \n",
    "if b%2==0 : \n",
    "    print(\"even\")\n",
    "else :\n",
    "    print(\"odd\")\n",
    "    \n",
    "if c%2==0 : \n",
    "    print(\"even\")\n",
    "else :\n",
    "    print(\"odd\")"
   ]
  },
  {
   "cell_type": "code",
   "execution_count": 6,
   "id": "235f7cb5",
   "metadata": {},
   "outputs": [
    {
     "name": "stdout",
     "output_type": "stream",
     "text": [
      "-1\n",
      "B\n"
     ]
    }
   ],
   "source": [
    "# 6067\n",
    "# 0이 아닌 정수 1개가 입력되었을 때, 음(-)/양(+)과 짝(even)/홀(odd)을 구분해 분류해보자.\n",
    "# 음수이면서 짝수이면, A\n",
    "# 음수이면서 홀수이면, B\n",
    "# 양수이면서 짝수이면, C\n",
    "# 양수이면서 홀수이면, D\n",
    "# 를 출력한다.\n",
    "\n",
    "# 예시\n",
    "# ...\n",
    "# if n<0 :\n",
    "#   if n%2==0 :\n",
    "#     print('A')      #주의 : 변수 A와 문자열 'A' / \"A\" 는 의미가 완전히 다르다. \n",
    "#   else :\n",
    "#     print('B')\n",
    "# else :\n",
    "#   if n%2==0 :\n",
    "#     print('C')\n",
    "#   else :\n",
    "#     print('D')\n",
    "# ...\n",
    "\n",
    "# 참고\n",
    "# 조건/선택 실행구조 안에 다시 조건/선택 실행구조를 \"중첩\"할 수가 있다.\n",
    "\n",
    "# 또한, 중첩된 조건은\n",
    "# ...\n",
    "# if (n<0) and (n%2==0) :\n",
    "#     print('A')\n",
    "# ...\n",
    "# 와 같이 논리연산자(not, and, or)를 이용해 합쳐 표현할 수도 있다.\n",
    "# 비교연산(<, >, <=, >=, ==, !=) 의 계산 결과는 True 또는 False 의 불(boolean) 값이고,\n",
    "# 불 값들 사이의 논리연산(not, and, or)의 결과도 True 또는 False 의 불 값이다.\n",
    "\n",
    "a = int(input())\n",
    "\n",
    "if a<0 :\n",
    "  if a < 0 and a%2==0 :\n",
    "    print('A') \n",
    "  else :\n",
    "    print('B')\n",
    "else :\n",
    "  if a > 0 and a%2==0 :\n",
    "    print('C')\n",
    "  else :\n",
    "    print('D')"
   ]
  },
  {
   "cell_type": "code",
   "execution_count": 2,
   "id": "c279e196",
   "metadata": {},
   "outputs": [
    {
     "name": "stdout",
     "output_type": "stream",
     "text": [
      "90\n",
      "A\n"
     ]
    }
   ],
   "source": [
    "# 6068\n",
    "# 점수(정수, 0 ~ 100)를 입력받아 평가를 출력해보자.\n",
    "\n",
    "# 평가 기준\n",
    "# 점수 범위 : 평가\n",
    "#  90 ~ 100 : A\n",
    "#  70 ~   89 : B\n",
    "#  40 ~   69 : C\n",
    "#    0 ~   39 : D\n",
    "# 로 평가되어야 한다.\n",
    "\n",
    "# 예시\n",
    "# ...\n",
    "# if n>=90 :\n",
    "#   print('A')\n",
    "# else :\n",
    "#   if n>=70 :\n",
    "#     print('B')\n",
    "#   else :\n",
    "#     if n>=40 :\n",
    "#       print('C')\n",
    "#     else :\n",
    "#       print('D') \n",
    "    \n",
    "# 참고\n",
    "# elif는 else if 의 짧은 약어라고 생각해도 된다.\n",
    "# elif 를 사용하면 if ... else ... 구조를 겹쳐 사용할 때처럼, 여러 번 안 쪽으로 들여쓰기 하지 않아도 된다.\n",
    "\n",
    "a = int(input())\n",
    "\n",
    "if a>=90 :\n",
    "    print(\"A\")\n",
    "elif a>=70 :\n",
    "    print(\"B\")\n",
    "elif a>=40 :\n",
    "    print(\"C\")\n",
    "else :\n",
    "    print(\"D\")"
   ]
  },
  {
   "cell_type": "code",
   "execution_count": 3,
   "id": "566d7cb3",
   "metadata": {},
   "outputs": [
    {
     "name": "stdout",
     "output_type": "stream",
     "text": [
      "A\n",
      "best!!!\n"
     ]
    }
   ],
   "source": [
    "# 6069\n",
    "# 평가를 문자(A, B, C, D, ...)로 입력받아 내용을 다르게 출력해보자.\n",
    "\n",
    "# 평가 내용\n",
    "# 평가 : 내용\n",
    "# A : best!!!\n",
    "# B : good!!\n",
    "# C : run!\n",
    "# D : slowly~\n",
    "# 나머지 문자들 : what?\n",
    "\n",
    "a = input()\n",
    "\n",
    "if a == 'A' :\n",
    "    print('best!!!')\n",
    "elif a == 'B' :\n",
    "    print('good!!')\n",
    "elif a == 'C' :\n",
    "    print('run!')\n",
    "elif a == 'D' :\n",
    "    print('slowly~')\n",
    "else :\n",
    "    print('what?')"
   ]
  },
  {
   "cell_type": "code",
   "execution_count": 4,
   "id": "6ff7b1b8",
   "metadata": {},
   "outputs": [
    {
     "name": "stdout",
     "output_type": "stream",
     "text": [
      "6\n",
      "summer\n"
     ]
    }
   ],
   "source": [
    "# 6070\n",
    "# 월이 입력될 때 계절 이름이 출력되도록 해보자.\n",
    "\n",
    "# 월 : 계절 이름\n",
    "# 12, 1, 2 : winter\n",
    "#   3, 4, 5 : spring\n",
    "#   6, 7, 8 : summer\n",
    "#   9, 10, 11 : fall\n",
    "\n",
    "# 예시\n",
    "# ...\n",
    "# if n//3==1 :\n",
    "#   print(\"spring\")\n",
    "\n",
    "a = int(input())\n",
    "\n",
    "if a // 3 == 1 :\n",
    "    print('spring')\n",
    "elif a // 3 == 2 :\n",
    "    print('summer')\n",
    "elif a // 3 == 3 :\n",
    "    print('fall')\n",
    "else :\n",
    "    print('winter')"
   ]
  },
  {
   "cell_type": "code",
   "execution_count": null,
   "id": "b6f88ffb",
   "metadata": {},
   "outputs": [
    {
     "name": "stdout",
     "output_type": "stream",
     "text": [
      "2\n",
      "2\n"
     ]
    }
   ],
   "source": [
    "# 6071\n",
    "# 임의의 정수가 줄을 바꿔 계속 입력된다.\n",
    "# -2147483648 ~ +2147483647, 단 개수는 알 수 없다.\n",
    "\n",
    "# 0이 아니면 입력된 정수를 출력하고, 0이 입력되면 출력을 중단해보자.\n",
    "# 예시\n",
    "# ...\n",
    "# n = 1      #처음 조건 검사를 통과하기 위해 0 아닌 값을 임의로 저장\n",
    "# while n!=0 :\n",
    "#   n = int(input())\n",
    "#   if n!=0 :\n",
    "#     print(n)\n",
    "# ...\n",
    "\n",
    "a = 1\n",
    "while a != 0 :\n",
    "    a = int(input())\n",
    "    if a != 0 :\n",
    "        print(a)"
   ]
  },
  {
   "cell_type": "code",
   "execution_count": 1,
   "id": "601c13d5",
   "metadata": {},
   "outputs": [
    {
     "name": "stdout",
     "output_type": "stream",
     "text": [
      "5\n",
      "5\n",
      "4\n",
      "3\n",
      "2\n",
      "1\n"
     ]
    }
   ],
   "source": [
    "# 6072\n",
    "# 정수(1 ~ 100) 1개가 입력되었을 때 카운트다운을 출력해보자.\n",
    "\n",
    "# while 조건식 :\n",
    "#   ...\n",
    "#   ...\n",
    "# 반복 실행구조를 사용해 보자.\n",
    "\n",
    "# 예시\n",
    "# ...\n",
    "# while n!=0 :\n",
    "#   print(n)\n",
    "#   n = n-1\n",
    "# ...\n",
    "\n",
    "a = int(input())\n",
    "while a != 0 :\n",
    "    print(a)\n",
    "    a = a - 1"
   ]
  },
  {
   "cell_type": "code",
   "execution_count": 2,
   "id": "d430867d",
   "metadata": {},
   "outputs": [
    {
     "name": "stdout",
     "output_type": "stream",
     "text": [
      "5\n",
      "4\n",
      "3\n",
      "2\n",
      "1\n",
      "0\n"
     ]
    }
   ],
   "source": [
    "# 6073\n",
    "# 정수(1 ~ 100) 1개가 입력되었을 때 카운트다운을 출력해보자.\n",
    "\n",
    "# while 조건식 :\n",
    "#   ...\n",
    "#   ...\n",
    "\n",
    "# 반복 실행구조를 사용해 보자.\n",
    "\n",
    "a = int(input())\n",
    "while a != 0 :\n",
    "    a = a - 1\n",
    "    print(a)"
   ]
  },
  {
   "cell_type": "code",
   "execution_count": 3,
   "id": "eb97d500",
   "metadata": {},
   "outputs": [
    {
     "name": "stdout",
     "output_type": "stream",
     "text": [
      "f\n",
      "a b c d e f "
     ]
    }
   ],
   "source": [
    "# 6074\n",
    "# 영문 소문자(a ~ z) 1개가 입력되었을 때,\n",
    "# a부터 그 문자까지의 알파벳을 순서대로 출력해보자.\n",
    "\n",
    "# 예시\n",
    "# c = ord(input())\n",
    "# t = ord('a')\n",
    "# while t<=c :\n",
    "#   print(chr(t), end=' ')\n",
    "#   t += 1\n",
    "\n",
    "# 참고\n",
    "# 알파벳 문자 a의 정수값은 ord('a')로 알아낼 수 있다.\n",
    "# chr(정수값)을 이용하면 유니코드 문자로 출력할 수 있다.\n",
    "# print(..., end=' ') 와 같이 작성하면 값 출력 후 공백문자 ' '를 출력한다. 즉, 마지막에 줄을 바꾸지 않고 빈칸만 띄운다.\n",
    "# (end='\\n'로 작성하거나 생략하면, 값을 출력한 후 마지막(end)에 줄바꿈(newline)이 된다.)\n",
    "\n",
    "a = ord(input())\n",
    "b = ord('a')\n",
    "\n",
    "while b <= a :\n",
    "    print(chr(b), end=' ')  # 공백문자 '' 출력\n",
    "    b += 1"
   ]
  },
  {
   "cell_type": "code",
   "execution_count": 7,
   "id": "b72de1c6",
   "metadata": {},
   "outputs": [
    {
     "name": "stdout",
     "output_type": "stream",
     "text": [
      "4\n",
      "0\n",
      "1\n",
      "2\n",
      "3\n",
      "4\n"
     ]
    }
   ],
   "source": [
    "# 6075\n",
    "# 정수(0 ~ 100) 1개를 입력받아 0부터 그 수까지 순서대로 출력해보자.\n",
    "\n",
    "a = int(input())\n",
    "b = int(0)\n",
    "\n",
    "while b <= a :\n",
    "    print(b, end='\\n')\n",
    "    b += 1"
   ]
  },
  {
   "cell_type": "code",
   "execution_count": 8,
   "id": "452d0ef9",
   "metadata": {},
   "outputs": [
    {
     "name": "stdout",
     "output_type": "stream",
     "text": [
      "4\n",
      "0\n",
      "1\n",
      "2\n",
      "3\n",
      "4\n"
     ]
    }
   ],
   "source": [
    "# 6076\n",
    "# 정수(0 ~ 100) 1개를 입력받아 0부터 그 수까지 순서대로 출력해보자.\n",
    "\n",
    "# 예시\n",
    "# n = int(input())\n",
    "# for i in range(n+1) :\n",
    "#   print(i)\n",
    "\n",
    "# 참고\n",
    "# range(n) 은 0, 1, 2, ... , n-2, n-1 까지의 수열을 의미한다.\n",
    "# 예를 들어 range(3) 은 0, 1, 2 인 수열을 의미한다.\n",
    "\n",
    "# for i in range(n) :    #range(n)에 들어있는(in) 각각의 수에 대해서(for) 순서대로 i에 저장해 가면서...\n",
    "# 이때의 for는 각각의 값에 대하여... 라는 for each 의 의미를 가진다고 생각할 수 있다.\n",
    "\n",
    "# range(끝)\n",
    "# range(시작, 끝)\n",
    "# range(시작, 끝, 증감)\n",
    "# 형태로 수열을 표현할 수 있다. 시작 수는 포함이고, 끝 수는 포함되지 않는다. [시작, 끝)\n",
    "# 증감할 수를 작성하지 않으면 +1이 된다.\n",
    "\n",
    "# 반복 실행구조에 반복 횟수를 기록/저장하는 변수로 i를 자주 사용하는데,\n",
    "# i 는 반복자(iterator)를 나타내는 i라고 생각할 수 있다. i, j, k ... 알파벳 순으로 사용하기도 한다.\n",
    "\n",
    "a = int(input())\n",
    "for i in range(a+1):\n",
    "    print(i)"
   ]
  }
 ],
 "metadata": {
  "kernelspec": {
   "display_name": "Python 3 (ipykernel)",
   "language": "python",
   "name": "python3"
  },
  "language_info": {
   "codemirror_mode": {
    "name": "ipython",
    "version": 3
   },
   "file_extension": ".py",
   "mimetype": "text/x-python",
   "name": "python",
   "nbconvert_exporter": "python",
   "pygments_lexer": "ipython3",
   "version": "3.8.12"
  }
 },
 "nbformat": 4,
 "nbformat_minor": 5
}
