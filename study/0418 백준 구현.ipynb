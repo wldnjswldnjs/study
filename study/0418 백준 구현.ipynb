{
 "cells": [
  {
   "cell_type": "code",
   "execution_count": null,
   "id": "b85846c6",
   "metadata": {},
   "outputs": [],
   "source": [
    "input_num = int(input())\n",
    "\n",
    "line = 0                    # 사선 라인\n",
    "max_num = 0                 # 입력된 숫자(input_num 변수)의 라인에서 가장 큰 숫자\n",
    "while input_num > max_num:\n",
    "    line += 1  \n",
    "    max_num += line  \n",
    "\n",
    "gap = max_num - input_num \n",
    "if line % 2 == 0:          # 사선 라인이 짝수번째 일 때\n",
    "    top = line - gap       # 분자\n",
    "    under = gap + 1        # 분모\n",
    "else :                     # 사선 라인이 홀수번째 일 때\n",
    "    top = gap + 1          # 분자\n",
    "    under = line - gap     # 분모\n",
    "print(f'{top}/{under}')    # f-string 을 이용"
   ]
  }
 ],
 "metadata": {
  "kernelspec": {
   "display_name": "Python [conda env:.conda-study] *",
   "language": "python",
   "name": "conda-env-.conda-study-py"
  },
  "language_info": {
   "codemirror_mode": {
    "name": "ipython",
    "version": 3
   },
   "file_extension": ".py",
   "mimetype": "text/x-python",
   "name": "python",
   "nbconvert_exporter": "python",
   "pygments_lexer": "ipython3",
   "version": "3.8.13"
  }
 },
 "nbformat": 4,
 "nbformat_minor": 5
}
