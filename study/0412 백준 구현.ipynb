{
 "cells": [
  {
   "cell_type": "code",
   "execution_count": 5,
   "id": "92a07c99",
   "metadata": {},
   "outputs": [
    {
     "name": "stdout",
     "output_type": "stream",
     "text": [
      "5\n",
      "ab\n",
      "aa\n",
      "aca\n",
      "ba\n",
      "bb\n",
      "4\n"
     ]
    }
   ],
   "source": [
    "# 1316\n",
    "# ccazzzzbb는 c, a, z, b가 모두 연속해서 나타나고, kin도 k, i, n이 연속해서 나타나기 때문에 그룹 단어이지만, aabbbccb는 b가 떨어져서 나타나기 때문에 그룹 단어가 아니다.\n",
    "\n",
    "# 단어 N개를 입력으로 받아 그룹 단어의 개수를 출력하는 프로그램을 작성하시오.\n",
    "\n",
    "n = int(input())\n",
    "answer = 0\n",
    "\n",
    "for i in range(n):\n",
    "    word = input()\n",
    "    error = 0\n",
    "    for j in range(len(word)-1):  # 인덱스 범위 생성 : 0부터 단어개수 -1까지 \n",
    "        if word[j] != word[j+1]:  # 연속한 두 문자가 같지 않으면 \n",
    "            new_word = word[j+1:]  # 현재글자 이후 문자열을 새로운 단어로 생성\n",
    "            if new_word.count(word[j]) > 0:  # 남은 문자열에서 현재글자가 있다면\n",
    "                error += 1  # error에 1씩 증가.\n",
    "    if error == 0:  \n",
    "        answer += 1  # error가 0이면 그룹단어\n",
    "print(answer)"
   ]
  }
 ],
 "metadata": {
  "kernelspec": {
   "display_name": "Python [conda env:.conda-study] *",
   "language": "python",
   "name": "conda-env-.conda-study-py"
  },
  "language_info": {
   "codemirror_mode": {
    "name": "ipython",
    "version": 3
   },
   "file_extension": ".py",
   "mimetype": "text/x-python",
   "name": "python",
   "nbconvert_exporter": "python",
   "pygments_lexer": "ipython3",
   "version": "3.8.13"
  }
 },
 "nbformat": 4,
 "nbformat_minor": 5
}
