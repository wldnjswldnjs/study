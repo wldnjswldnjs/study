{
 "cells": [
  {
   "cell_type": "markdown",
   "id": "e03bad2e",
   "metadata": {},
   "source": [
    "### 2490\n",
    "\n",
    "우리나라 고유의 윷놀이는 네 개의 윷짝을 던져서 배(0)와 등(1)이 나오는 숫자를 세어 도, 개, 걸, 윷, 모를 결정한다.\n",
    "\n",
    "네 개 윷짝을 던져서 나온 각 윷짝의 배 혹은 등 정보가 주어질 때 도(배 한 개, 등 세 개), 개(배 두 개, 등 두 개), 걸(배 세 개, 등 한 개), 윷(배 네 개), 모(등 네 개) 중 어떤 것인지를 결정하는 프로그램을 작성하라.\n",
    "\n",
    "첫째 줄부터 셋째 줄까지 각 줄에 각각 한 번 던진 윷짝들의 상태를 나타내는 네 개의 정수(0 또는 1)가 빈칸을 사이에 두고 주어진다.\n",
    "\n",
    "첫째 줄부터 셋째 줄까지 한 줄에 하나씩 결과를 도는 A, 개는 B, 걸은 C, 윷은 D, 모는 E로 출력한다."
   ]
  },
  {
   "cell_type": "code",
   "execution_count": 2,
   "id": "a180718c",
   "metadata": {},
   "outputs": [
    {
     "name": "stdout",
     "output_type": "stream",
     "text": [
      "0 1 0 1\n",
      "B\n",
      "1 1 1 0\n",
      "A\n",
      "1 1 1 1\n",
      "E\n"
     ]
    }
   ],
   "source": [
    "for i in range(3):\n",
    "    n = list(map(int, input().split()))\n",
    "    if n.count(0) == 1:\n",
    "        print('A')\n",
    "    elif n.count(0) == 2:\n",
    "        print('B')\n",
    "    elif n.count(0) == 3:\n",
    "        print('C')\n",
    "    elif n.count(0) == 4:\n",
    "        print('D')\n",
    "    else:\n",
    "        print('E')"
   ]
  },
  {
   "cell_type": "markdown",
   "id": "39ab22c4",
   "metadata": {},
   "source": [
    "### 2455\n",
    "\n",
    "이 기차에는 타거나 내리는 사람 수를 자동으로 인식할 수 있는 장치가 있다.\n",
    "\n",
    "이 장치를 이용하여 출발역에서 종착역까지 가는 도중 기차 안에 사람이 가장 많을 때의 사람 수를 계산하려고 한다\n",
    "\n",
    "1. 기차는 역 번호 순서대로 운행한다.\n",
    "\n",
    "2. 출발역에서 내린 사람 수와 종착역에서 탄 사람 수는 0이다.\n",
    "\n",
    "3. 각 역에서 현재 기차에 있는 사람보다 더 많은 사람이 내리는 경우는 없다.\n",
    "\n",
    "4. 기차의 정원은 최대 10,000명이고, 정원을 초과하여 타는 경우는 없다.\n",
    "\n",
    "4개의 역에 대해 기차에서 내린 사람 수와 탄 사람 수가 주어졌을 때, 기차에 사람이 가장 많을 때의 사람 수를 계산하는 프로그램을 작성하시오.\n",
    "\n",
    "각 역에서 내린 사람 수와 탄 사람 수가 빈칸을 사이에 두고 첫째 줄부터 넷째 줄까지 역 순서대로 한 줄에 하나씩 주어진다. "
   ]
  },
  {
   "cell_type": "code",
   "execution_count": 4,
   "id": "9a9167b3",
   "metadata": {},
   "outputs": [
    {
     "name": "stdout",
     "output_type": "stream",
     "text": [
      "0 32\n",
      "3 13\n",
      "28 25\n",
      "39 0\n",
      "42\n"
     ]
    }
   ],
   "source": [
    "train = []\n",
    "people = 0\n",
    "\n",
    "for _ in range(4):\n",
    "    a, b = map(int, input().split())\n",
    "    people += b\n",
    "    people -= a\n",
    "    train.append(people)\n",
    "\n",
    "print(max(train))"
   ]
  }
 ],
 "metadata": {
  "kernelspec": {
   "display_name": "Python 3 (ipykernel)",
   "language": "python",
   "name": "python3"
  },
  "language_info": {
   "codemirror_mode": {
    "name": "ipython",
    "version": 3
   },
   "file_extension": ".py",
   "mimetype": "text/x-python",
   "name": "python",
   "nbconvert_exporter": "python",
   "pygments_lexer": "ipython3",
   "version": "3.9.7"
  }
 },
 "nbformat": 4,
 "nbformat_minor": 5
}
