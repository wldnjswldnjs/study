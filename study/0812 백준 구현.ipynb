{
 "cells": [
  {
   "cell_type": "markdown",
   "id": "47bbf377",
   "metadata": {},
   "source": [
    "### 3046\n",
    "\n",
    "두 숫자 R1과 R2가 있을 때, 두 수의 평균 S는 (R1+R2)/2와 같다.\n",
    "\n",
    "첫째 줄에 두 정수 R1과 S가 주어진다.\n",
    "\n",
    "첫째 줄에 R2를 출력한다."
   ]
  },
  {
   "cell_type": "code",
   "execution_count": 4,
   "id": "db7e1ce1",
   "metadata": {
    "scrolled": true
   },
   "outputs": [
    {
     "name": "stdout",
     "output_type": "stream",
     "text": [
      "11 15\n",
      "19\n"
     ]
    }
   ],
   "source": [
    "R1, S = map(int, input().split())\n",
    "\n",
    "print(S * 2 - R1)"
   ]
  },
  {
   "cell_type": "markdown",
   "id": "7508b3f5",
   "metadata": {},
   "source": [
    "### 25083"
   ]
  },
  {
   "cell_type": "code",
   "execution_count": 7,
   "id": "fc2ca021",
   "metadata": {},
   "outputs": [
    {
     "name": "stdout",
     "output_type": "stream",
     "text": [
      "         ,r'\"7\n",
      "r`-_   ,'  ,/\n",
      " \\. \". L_r'\n",
      "   `~\\/\n",
      "      |\n",
      "      |\n"
     ]
    }
   ],
   "source": [
    "print('         ,r\\'\"7')\n",
    "print('r`-_   ,\\'  ,/')\n",
    "print(' \\. \". L_r\\'')\n",
    "print('   `~\\/')\n",
    "print('      |')\n",
    "print('      |')"
   ]
  },
  {
   "cell_type": "markdown",
   "id": "482f4a43",
   "metadata": {},
   "source": [
    "### 2445\n",
    "\n",
    "규칙을 유추한 뒤에 별을 찍어 보세요.\n",
    "\n",
    "첫째 줄부터 2×N-1번째 줄까지 차례대로 별을 출력한다."
   ]
  },
  {
   "cell_type": "code",
   "execution_count": 20,
   "id": "033b98e1",
   "metadata": {},
   "outputs": [
    {
     "name": "stdout",
     "output_type": "stream",
     "text": [
      "5\n",
      "*        *\n",
      "**      **\n",
      "***    ***\n",
      "****  ****\n",
      "**********\n",
      "****  ****\n",
      "***    ***\n",
      "**      **\n",
      "*        *\n"
     ]
    }
   ],
   "source": [
    "n = int(input())\n",
    "\n",
    "for i in range(1, n+1):\n",
    "    print('*'*i + ' '*2*(n-i) + '*'*i)\n",
    "\n",
    "for j in range(1, n):\n",
    "    print(\"*\"* (n-j) + ' '*2*j + '*' * (n-j))"
   ]
  }
 ],
 "metadata": {
  "kernelspec": {
   "display_name": "Python 3 (ipykernel)",
   "language": "python",
   "name": "python3"
  },
  "language_info": {
   "codemirror_mode": {
    "name": "ipython",
    "version": 3
   },
   "file_extension": ".py",
   "mimetype": "text/x-python",
   "name": "python",
   "nbconvert_exporter": "python",
   "pygments_lexer": "ipython3",
   "version": "3.9.7"
  }
 },
 "nbformat": 4,
 "nbformat_minor": 5
}
