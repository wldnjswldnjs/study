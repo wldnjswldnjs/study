{
 "cells": [
  {
   "cell_type": "code",
   "execution_count": 1,
   "id": "b36bccfd",
   "metadata": {},
   "outputs": [
    {
     "name": "stdout",
     "output_type": "stream",
     "text": [
      "1\n",
      "2\n",
      "3\n"
     ]
    }
   ],
   "source": [
    "# 2558\n",
    "# 두 정수 A와 B를 입력받은 다음, A+B를 출력하는 프로그램을 작성하시오.\n",
    "\n",
    "a = int(input())\n",
    "b = int(input())\n",
    "\n",
    "print(a+b)"
   ]
  },
  {
   "cell_type": "code",
   "execution_count": 6,
   "id": "6ab6d8fe",
   "metadata": {},
   "outputs": [
    {
     "name": "stdout",
     "output_type": "stream",
     "text": [
      "10\n",
      "3628800\n"
     ]
    }
   ],
   "source": [
    "# 10872\n",
    "# 0보다 크거나 같은 정수 N이 주어진다. 이때, N!을 출력하는 프로그램을 작성하시오.\n",
    "\n",
    "n = int(input())\n",
    "result = 1\n",
    "\n",
    "if n > 0:\n",
    "    for i in range(1,n+1):\n",
    "        result *= i\n",
    "\n",
    "print(result)"
   ]
  },
  {
   "cell_type": "code",
   "execution_count": 15,
   "id": "93b3ca74",
   "metadata": {},
   "outputs": [],
   "source": [
    "# 15596\n",
    "# 정수 n개가 주어졌을 때, n개의 합을 구하는 함수를 작성하시오.\n",
    "\n",
    "# Python 2, Python 3, PyPy, PyPy3:\n",
    "#     def solve(a: list) -> int\n",
    "# a: 합을 구해야 하는 정수 n개가 저장되어 있는 리스트 (0 ≤ a[i] ≤ 1,000,000, 1 ≤ n ≤ 3,000,000)\n",
    "# 리턴값: a에 포함되어 있는 정수 n개의 합 (정수)\n",
    "\n",
    "# 방법1\n",
    "def solve(n):\n",
    "    total = 0\n",
    "    for i in n:\n",
    "        total += i\n",
    "    return total\n",
    "\n",
    "# 방법2\n",
    "def solve(n):\n",
    "    return sum(n)"
   ]
  }
 ],
 "metadata": {
  "kernelspec": {
   "display_name": "Python [conda env:.conda-study] *",
   "language": "python",
   "name": "conda-env-.conda-study-py"
  },
  "language_info": {
   "codemirror_mode": {
    "name": "ipython",
    "version": 3
   },
   "file_extension": ".py",
   "mimetype": "text/x-python",
   "name": "python",
   "nbconvert_exporter": "python",
   "pygments_lexer": "ipython3",
   "version": "3.8.13"
  }
 },
 "nbformat": 4,
 "nbformat_minor": 5
}
