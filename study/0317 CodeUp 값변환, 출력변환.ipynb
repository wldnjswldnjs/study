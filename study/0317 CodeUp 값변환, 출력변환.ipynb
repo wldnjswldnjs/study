{
 "cells": [
  {
   "cell_type": "code",
   "execution_count": 1,
   "id": "b5c9086f",
   "metadata": {},
   "outputs": [
    {
     "name": "stdout",
     "output_type": "stream",
     "text": [
      "2 3\n",
      "5\n"
     ]
    }
   ],
   "source": [
    "# 6025\n",
    "# 정수 2개를 입력받아\n",
    "# 합을 출력하는 프로그램을 작성해보자.\n",
    "\n",
    "a, b = input().split()\n",
    "c = int(a) + int(b)\n",
    "print(c)"
   ]
  },
  {
   "cell_type": "code",
   "execution_count": 1,
   "id": "da853efc",
   "metadata": {},
   "outputs": [
    {
     "name": "stdout",
     "output_type": "stream",
     "text": [
      "2.5\n",
      "3.8\n",
      "6.3\n"
     ]
    }
   ],
   "source": [
    "# 6026\n",
    "# 실수 2개를 입력받아\n",
    "# 합을 출력하는 프로그램을 작성해보자.\n",
    "# 2개의 실수가 줄을 바꿔 입력된다.\n",
    "\n",
    "a = input()\n",
    "b = input()\n",
    "c = float(a) + float(b)\n",
    "print(c)"
   ]
  },
  {
   "cell_type": "code",
   "execution_count": 4,
   "id": "9e5c8613",
   "metadata": {},
   "outputs": [
    {
     "name": "stdout",
     "output_type": "stream",
     "text": [
      "45\n",
      "2d\n"
     ]
    }
   ],
   "source": [
    "# 6027\n",
    "# 10진수를 입력받아 16진수(hexadecimal)로 출력해보자.\n",
    "\n",
    "# 예시\n",
    "# a = input()\n",
    "# n = int(a)         입력된 a를 10진수 값으로 변환해 변수 n에 저장\n",
    "# print('%x'% n)     n에 저장되어있는 값을 16진수(hexadecimal) 소문자 형태 문자열로 출력\n",
    "\n",
    "# 참고\n",
    "# 10진수 형태로 입력받고\n",
    "# %x로 출력하면 16진수(hexadecimal) 소문자로 출력된다.\n",
    "# (%o로 출력하면 8진수(octal) 문자열로 출력된다.)\n",
    "\n",
    "a = input()\n",
    "n = int(a)\n",
    "print('%x'%n)"
   ]
  },
  {
   "cell_type": "code",
   "execution_count": 5,
   "id": "a01857db",
   "metadata": {},
   "outputs": [
    {
     "name": "stdout",
     "output_type": "stream",
     "text": [
      "45\n",
      "2D\n"
     ]
    }
   ],
   "source": [
    "# 6028\n",
    "# 10진수를 입력받아 16진수(hexadecimal)로 출력해보자.\n",
    "\n",
    "# 예시\n",
    "# print('%X' % n)  #n에 저장되어있는 값을 16진수 대문자 형태 문자열로 출력\n",
    "\n",
    "# 참고\n",
    "# 10진수 형태로 입력받고\n",
    "# %X로 출력하면 16진수(hexadecimal)대문자로 출력된다.\n",
    "\n",
    "a = input()\n",
    "n = int(a)\n",
    "print('%X'%n)"
   ]
  },
  {
   "cell_type": "code",
   "execution_count": 8,
   "id": "1801a0b9",
   "metadata": {},
   "outputs": [
    {
     "name": "stdout",
     "output_type": "stream",
     "text": [
      "8\n",
      "10\n"
     ]
    }
   ],
   "source": [
    "# 6029\n",
    "# 16진수를 입력받아 8진수(octal)로 출력해보자.\n",
    "\n",
    "# 예시\n",
    "# a = input()\n",
    "# n = int(a, 16)      #입력된 a를 16진수로 인식해 변수 n에 저장\n",
    "# print('%o' % n)  #n에 저장되어있는 값을 8진수(octal) 형태 문자열로 출력\n",
    "\n",
    "# 참고\n",
    "# 8진법은 한 자리에 8개(0 1 2 3 4 5 6 7)의 문자를 사용한다.\n",
    "# 8진수 10은 10진수의 8, 11은 9, 12는 10 ... 와 같다.\n",
    "\n",
    "a = input()\n",
    "n = int(a, 16)\n",
    "print('%o' % n)"
   ]
  },
  {
   "cell_type": "code",
   "execution_count": 11,
   "id": "4e08ba89",
   "metadata": {},
   "outputs": [
    {
     "name": "stdout",
     "output_type": "stream",
     "text": [
      "b\n",
      "98\n"
     ]
    }
   ],
   "source": [
    "# 6030\n",
    "# 영문자 1개를 입력받아 10진수 유니코드(Unicode) 값으로 출력해보자.\n",
    "\n",
    "# 예시\n",
    "# n = ord(input())\n",
    "# print(n)\n",
    "\n",
    "# 참고\n",
    "# n = ord(input())  #입력받은 문자를 10진수 유니코드 값으로 변환한 후, n에 저장한다.\n",
    "\n",
    "# ord( ) 는 어떤 문자의 순서 위치(ordinal position) 값을 의미한다.  \n",
    "# 실제로 각각의 문자들에는 연속된 정수 값이 순서에 따라 부여 되어 있다. A:65, B:66, C:67 .... \n",
    "# ord(c) : 문자 c 를 10진수로 변환한 값 \n",
    "\n",
    "n = ord(input())\n",
    "print(n)"
   ]
  },
  {
   "cell_type": "code",
   "execution_count": 14,
   "id": "c40eb79e",
   "metadata": {},
   "outputs": [
    {
     "name": "stdout",
     "output_type": "stream",
     "text": [
      "8\n",
      "\b\n"
     ]
    }
   ],
   "source": [
    "# 6031\n",
    "# 10진 정수 1개를 입력받아\n",
    "# 유니코드 문자로 출력해보자.\n",
    "\n",
    "\n",
    "# 예시\n",
    "# c = int(input())\n",
    "# print(chr(c))  #c에 저장되어 있는 정수 값을 유니코드 문자(chracter)로 바꿔 출력한다. \n",
    "\n",
    "\n",
    "# 참고\n",
    "# 입력은 기본적으로 모두 문자열로 입력되는 것이라고 할 수 있다. \n",
    "# 따라서, 입력 값이 문자/문자열/정수/실수인지에 따라서 먼저 정확하게 변환시킨 다음에 사용하거나 계산하는 것이 좋다.\n",
    "\n",
    "c = int(input())\n",
    "print(chr(c))"
   ]
  }
 ],
 "metadata": {
  "kernelspec": {
   "display_name": "Python 3 (ipykernel)",
   "language": "python",
   "name": "python3"
  },
  "language_info": {
   "codemirror_mode": {
    "name": "ipython",
    "version": 3
   },
   "file_extension": ".py",
   "mimetype": "text/x-python",
   "name": "python",
   "nbconvert_exporter": "python",
   "pygments_lexer": "ipython3",
   "version": "3.8.12"
  }
 },
 "nbformat": 4,
 "nbformat_minor": 5
}
